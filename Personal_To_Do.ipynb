{
  "nbformat": 4,
  "nbformat_minor": 0,
  "metadata": {
    "colab": {
      "provenance": [],
      "authorship_tag": "ABX9TyOs5nKLoiBrkxvMS6NR9tDF"
    },
    "kernelspec": {
      "name": "python3",
      "display_name": "Python 3"
    },
    "language_info": {
      "name": "python"
    }
  },
  "cells": [
    {
      "cell_type": "code",
      "execution_count": 1,
      "metadata": {
        "id": "shT7G1sglAGP"
      },
      "outputs": [],
      "source": [
        "import json\n",
        "import datetime"
      ]
    },
    {
      "cell_type": "code",
      "source": [
        "class Task:\n",
        "    def __init__(self, title, description, due_date, priority, category):\n",
        "        self.title = title\n",
        "        self.description = description\n",
        "        self.due_date = due_date\n",
        "        self.priority = priority\n",
        "        self.category = category\n",
        "        self.completed = False\n",
        "\n",
        "    def __str__(self):\n",
        "        return f\"{self.title} ({self.due_date}) - {self.priority}\""
      ],
      "metadata": {
        "id": "lBP0Y-6dlPF9"
      },
      "execution_count": 2,
      "outputs": []
    },
    {
      "cell_type": "code",
      "source": [
        "try:\n",
        "    with open(\"tasks.json\", \"r\") as file:\n",
        "        tasks = json.load(file)\n",
        "except FileNotFoundError:\n",
        "    tasks = []"
      ],
      "metadata": {
        "id": "z6qk2l_2lRCG"
      },
      "execution_count": 3,
      "outputs": []
    },
    {
      "cell_type": "code",
      "source": [
        "def cli():\n",
        "    while True:\n",
        "        print(\"\\nTo-Do List:\")\n",
        "        for i, task in enumerate(tasks):\n",
        "            print(f\"{i+1}. {task}\")\n",
        "\n",
        "        print(\"\\nOptions:\")\n",
        "        print(\"1. Add task\")\n",
        "        print(\"2. Mark task as completed\")\n",
        "        print(\"3. Delete task\")\n",
        "        print(\"4. Search tasks\")\n",
        "        print(\"5. Save and quit\")\n",
        "\n",
        "        choice = input(\"Enter your choice: \")\n",
        "\n",
        "        if choice == \"1\":\n",
        "            title = input(\"Enter task title: \")\n",
        "            description = input(\"Enter task description: \")\n",
        "            due_date = input(\"Enter due date (YYYY-MM-DD): \")\n",
        "            priority = input(\"Enter priority (high, medium, low): \")\n",
        "            category = input(\"Enter category: \")\n",
        "            tasks.append(Task(title, description, due_date, priority, category))\n",
        "        elif choice == \"2\":\n",
        "            index = int(input(\"Enter task index to mark as completed: \")) - 1\n",
        "            tasks[index].completed = True\n",
        "        elif choice == \"3\":\n",
        "            index = int(input(\"Enter task index to delete: \")) - 1\n",
        "            del tasks[index]\n",
        "        elif choice == \"4\":\n",
        "            search_term = input(\"Enter search term: \")\n",
        "            results = [task for task in tasks if search_term in task.title or search_term in task.description]\n",
        "            if results:\n",
        "                print(\"\\nSearch results:\")\n",
        "                for task in results:\n",
        "                    print(task)\n",
        "            else:\n",
        "                print(\"No matching tasks found.\")\n",
        "        elif choice == \"5\":\n",
        "            with open(\"tasks.json\", \"w\") as file:\n",
        "                json.dump(tasks, file)\n",
        "            print(\"Tasks saved. Exiting...\")\n",
        "            break\n",
        "        else:\n",
        "            print(\"Invalid choice. Please try again.\")"
      ],
      "metadata": {
        "id": "u3H0n5j3lTj1"
      },
      "execution_count": 4,
      "outputs": []
    },
    {
      "cell_type": "code",
      "source": [
        "import tkinter as tk\n",
        "from tkinter import messagebox\n",
        "from pyvirtualdisplay import Display\n",
        "\n",
        "# Function to add tasks to the list\n",
        "def add_task():\n",
        "    task = entry.get()\n",
        "    if task != \"\":\n",
        "        listbox.insert(tk.END, task)\n",
        "        entry.delete(0, tk.END)\n",
        "    else:\n",
        "        messagebox.showwarning(\"Input Error\", \"You must enter a task.\")\n",
        "\n",
        "# Function to remove selected task\n",
        "def delete_task():\n",
        "    try:\n",
        "        selected_task_index = listbox.curselection()[0]\n",
        "        listbox.delete(selected_task_index)\n",
        "    except IndexError:\n",
        "        messagebox.showwarning(\"Selection Error\", \"You must select a task to delete.\")\n",
        "\n",
        "# Function to clear all tasks\n",
        "def clear_all_tasks():\n",
        "    listbox.delete(0, tk.END)\n",
        "\n",
        "def gui():\n",
        "    # Start virtual display\n",
        "    display = Display(visible=0, size=(800, 600))\n",
        "    display.start()\n",
        "\n",
        "    # Now create your Tkinter window\n",
        "    window = tk.Tk()\n",
        "    window.title(\"To-Do List\")\n",
        "    window.geometry(\"300x400\")\n",
        "\n",
        "    # Task entry field\n",
        "    global entry\n",
        "    entry = tk.Entry(window, width=25)\n",
        "    entry.pack(pady=10)\n",
        "\n",
        "    # Add task button\n",
        "    add_button = tk.Button(window, text=\"Add Task\", width=20, command=add_task)\n",
        "    add_button.pack(pady=5)\n",
        "\n",
        "    # Task list (listbox)\n",
        "    global listbox\n",
        "    listbox = tk.Listbox(window, height=10, width=25)\n",
        "    listbox.pack(pady=10)\n",
        "\n",
        "    # Delete task button\n",
        "    delete_button = tk.Button(window, text=\"Delete Task\", width=20, command=delete_task)\n",
        "    delete_button.pack(pady=5)\n",
        "\n",
        "    # Clear all tasks button\n",
        "    clear_button = tk.Button(window, text=\"Clear All Tasks\", width=20, command=clear_all_tasks)\n",
        "    clear_button.pack(pady=5)\n",
        "\n",
        "    window.mainloop()\n",
        "\n",
        "    # Stop the display when done\n",
        "    display.stop()\n"
      ],
      "metadata": {
        "id": "UfvGinL2lWdA"
      },
      "execution_count": 6,
      "outputs": []
    },
    {
      "cell_type": "code",
      "source": [
        "# Run the application\n",
        "if __name__ == \"__main__\":\n",
        "    gui()"
      ],
      "metadata": {
        "id": "f0SubaOJmXiP"
      },
      "execution_count": null,
      "outputs": []
    }
  ]
}